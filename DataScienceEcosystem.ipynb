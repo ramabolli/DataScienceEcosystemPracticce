{
 "cells": [
  {
   "cell_type": "code",
   "execution_count": null,
   "id": "8b4fdfa9",
   "metadata": {},
   "outputs": [],
   "source": [
    "# Data Science Tools and Ecosystem"
   ]
  },
  {
   "cell_type": "markdown",
   "id": "b94ec3fd",
   "metadata": {},
   "source": [
    "In this notebook, Data Science Tools and Ecosystem are summarized\n"
   ]
  },
  {
   "cell_type": "markdown",
   "id": "9a85b4a2",
   "metadata": {},
   "source": [
    "Objectives:\n",
    "- List of popular languages for Data Science\n",
    "- Commonly used libraries for Data Science\n",
    "- Data Science Tools"
   ]
  },
  {
   "cell_type": "code",
   "execution_count": null,
   "id": "f3d9b69e",
   "metadata": {},
   "outputs": [],
   "source": [
    "Some of the popular languages that Data Scientists use are:\n",
    "- Python\n",
    "- R\n",
    "- SQL"
   ]
  },
  {
   "cell_type": "markdown",
   "id": "a9b89996",
   "metadata": {},
   "source": [
    "Some of the commonly used libraries used by Data Scientists include:\n",
    "- Sklearn\n",
    "- Pandas\n",
    "- SciPy"
   ]
  },
  {
   "cell_type": "markdown",
   "id": "9ba79f29",
   "metadata": {},
   "source": [
    "|Data Science Tools |\n",
    "|--------------------|\n",
    "|JupyterNotebook     |\n",
    "|JupyterLite         |\n",
    "|RStudio IDE         |"
   ]
  },
  {
   "cell_type": "markdown",
   "id": "44b76f9c",
   "metadata": {},
   "source": [
    "### Below are a few examples of evaluating arithemetic expressions in python"
   ]
  },
  {
   "cell_type": "code",
   "execution_count": 2,
   "id": "fc185220",
   "metadata": {},
   "outputs": [
    {
     "data": {
      "text/plain": [
       "17"
      ]
     },
     "execution_count": 2,
     "metadata": {},
     "output_type": "execute_result"
    }
   ],
   "source": [
    "#This is a simple arithmetic expression to multiply then add integers\n",
    "(3*4)+5"
   ]
  },
  {
   "cell_type": "code",
   "execution_count": 3,
   "id": "06bb6155",
   "metadata": {},
   "outputs": [
    {
     "name": "stdout",
     "output_type": "stream",
     "text": [
      "3.3333333333333335\n"
     ]
    }
   ],
   "source": [
    "#This will convert 200 minutes to hours by diving by 60\n",
    "hours=200/60\n",
    "print(hours)"
   ]
  },
  {
   "cell_type": "code",
   "execution_count": null,
   "id": "47463bfb",
   "metadata": {},
   "outputs": [],
   "source": []
  },
  {
   "cell_type": "markdown",
   "id": "7092ca24",
   "metadata": {},
   "source": [
    "##  Author\n",
    "Rama Bolli"
   ]
  }
 ],
 "metadata": {
  "kernelspec": {
   "display_name": "Python 3 (ipykernel)",
   "language": "python",
   "name": "python3"
  },
  "language_info": {
   "codemirror_mode": {
    "name": "ipython",
    "version": 3
   },
   "file_extension": ".py",
   "mimetype": "text/x-python",
   "name": "python",
   "nbconvert_exporter": "python",
   "pygments_lexer": "ipython3",
   "version": "3.11.5"
  }
 },
 "nbformat": 4,
 "nbformat_minor": 5
}
